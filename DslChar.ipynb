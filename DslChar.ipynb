{
  "nbformat": 4,
  "nbformat_minor": 0,
  "metadata": {
    "colab": {
      "provenance": [],
      "toc_visible": true,
      "authorship_tag": "ABX9TyODqa9aYDEDKEI9iHvFJYpy",
      "include_colab_link": true
    },
    "kernelspec": {
      "name": "python3",
      "display_name": "Python 3"
    },
    "language_info": {
      "name": "python"
    }
  },
  "cells": [
    {
      "cell_type": "markdown",
      "metadata": {
        "id": "view-in-github",
        "colab_type": "text"
      },
      "source": [
        "<a href=\"https://colab.research.google.com/github/dtramontina/LAMMPSLogPlotter/blob/master/DslChar.ipynb\" target=\"_parent\"><img src=\"https://colab.research.google.com/assets/colab-badge.svg\" alt=\"Open In Colab\"/></a>"
      ]
    },
    {
      "cell_type": "code",
      "execution_count": null,
      "metadata": {
        "id": "ue0Z432A_De8"
      },
      "outputs": [],
      "source": [
        "# !pip install dash\n",
        "\n",
        "from google.colab import files\n",
        "pdarray = []\n",
        "tpath = '/content/'\n",
        "uploaded = files.upload(\n",
        "for fn in uploaded.keys():\n",
        "  pdarray += pd.read_csv( tpath + fn )\n",
        "  \n"
      ]
    },
    {
      "cell_type": "code",
      "source": [],
      "metadata": {
        "id": "jranN1HciZVY"
      },
      "execution_count": null,
      "outputs": []
    },
    {
      "cell_type": "markdown",
      "source": [
        "# New Section"
      ],
      "metadata": {
        "id": "bR9QK5QJkv8E"
      }
    }
  ]
}